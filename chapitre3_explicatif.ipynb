{
 "cells": [
  {
   "cell_type": "markdown",
   "id": "c83903c9",
   "metadata": {},
   "source": [
    "# Chapitre 3 – Récursivité et structures simples\n",
    "\n",
    "Ce notebook accompagne le fichier `chapitre3.py` du dépôt *lazaristes*.\n",
    "\n",
    "Il explique chaque fonction du fichier, propose des exemples pour comprendre leur fonctionnement et discute des points d'attention éventuels.\n",
    "Les fonctions de ce chapitre utilisent des techniques comme les boucles imbriquées et la récursivité."
   ]
  },
  {
   "cell_type": "code",
   "execution_count": null,
   "id": "2ac5d5ea",
   "metadata": {},
   "outputs": [],
   "source": [
    "\n",
    "# Fonction same_elements : vérifie si deux listes contiennent exactement les mêmes éléments (quel que soit l'ordre)\n",
    "def same_elements(u, v):\n",
    "    # On teste pour chaque élément de u s'il est présent dans v\n",
    "    for number_u in u:\n",
    "        found = False\n",
    "        for number_v in v:\n",
    "            if number_u == number_v:\n",
    "                found = True\n",
    "                break\n",
    "        if not found:\n",
    "            return False\n",
    "    # On teste pour chaque élément de v s'il est présent dans u\n",
    "    for number_v in v:\n",
    "        found = False\n",
    "        for number_u in u:\n",
    "            if number_v == number_u:\n",
    "                found = True\n",
    "                break\n",
    "        if not found:\n",
    "            return False\n",
    "    return True\n",
    "\n",
    "# Fonction bien_parenthesee : vérifie que le nombre de parenthèses ouvrantes et fermantes est identique\n",
    "def bien_parenthesee(s):\n",
    "    open_count = 0\n",
    "    close_count = 0\n",
    "    for char in s:\n",
    "        if char == '(':  # parenthèse ouvrante\n",
    "            open_count += 1\n",
    "        elif char == ')':  # parenthèse fermante\n",
    "            close_count += 1\n",
    "    return open_count == close_count\n",
    "\n",
    "# Fonction puissance : calcule x à la puissance n par récursivité\n",
    "def puissance(x, n):\n",
    "    if n > 1:\n",
    "        return x * puissance(x, n - 1)\n",
    "    else:\n",
    "        return x\n",
    "\n",
    "# Fonction triangle : affiche un triangle d'étoiles en ordre croissant par récursivité\n",
    "def triangle(n):\n",
    "    if n == 1:\n",
    "        print('*')\n",
    "    else:\n",
    "        triangle(n - 1)\n",
    "        print(n * '*')\n",
    "\n",
    "# Fonction triangle_inverse : affiche un triangle d'étoiles en ordre décroissant par récursivité\n",
    "def triangle_inverse(n):\n",
    "    if n == 1:\n",
    "        print('*')\n",
    "    else:\n",
    "        print(n * '*')\n",
    "        triangle_inverse(n - 1)\n",
    "\n",
    "# Fonction sablier : affiche un motif de sablier (descend puis remonte)\n",
    "def sablier(n):\n",
    "    if n <= 0:\n",
    "        return\n",
    "    if n == 1:\n",
    "        print('*')\n",
    "    else:\n",
    "        print(n * '*')\n",
    "        sablier(n - 1)\n",
    "        print(n * '*')\n",
    "\n",
    "# Fonction subset : construit une structure de sous-ensembles d'une liste en retirant le dernier élément progressivement\n",
    "def subset(lst):\n",
    "    # Cette version modifie la liste passée en argument, ce qui peut surprendre\n",
    "    new_lst = []\n",
    "    temp = lst.copy()\n",
    "    while temp:\n",
    "        i = temp.pop()  # retire le dernier élément\n",
    "        new_lst.extend([i, temp.copy()])\n",
    "    new_lst.append([])  # ajoute l'ensemble vide\n",
    "    return new_lst\n"
   ]
  },
  {
   "cell_type": "markdown",
   "id": "c8ec36ca",
   "metadata": {},
   "source": [
    "## Fonction `same_elements(u, v)`\n",
    "\n",
    "Cette fonction vérifie si deux listes `u` et `v` contiennent les mêmes éléments, indépendamment de l'ordre ou des doublons. \n",
    "\n",
    "Le principe est de s'assurer que chaque élément de `u` se retrouve dans `v` et réciproquement.\n",
    "\n",
    "Exemple :\n",
    "\n",
    "```python\n",
    "same_elements([1, 2, 3], [3, 2, 1])  # True\n",
    "same_elements([1, 2, 2], [1, 2])     # True (2 est présent dans les deux)\n",
    "same_elements([1, 2, 3], [1, 2, 4]) # False\n",
    "```\n",
    "\n",
    "**Limite :** cette fonction ne gère pas la multiplicité des éléments (ex. deux 2 dans `u` et un seul 2 dans `v`). Une approche utilisant des `Counter` ou des ensembles pourrait être plus adaptée en fonction du besoin."
   ]
  },
  {
   "cell_type": "code",
   "execution_count": null,
   "id": "882f479e",
   "metadata": {},
   "outputs": [],
   "source": [
    "# Exemples pour same_elements\n",
    "print(same_elements([1,2,3], [3,2,1]))\n",
    "print(same_elements([1,2,2], [1,2]))\n",
    "print(same_elements([1,2,3], [1,2,4]))"
   ]
  },
  {
   "cell_type": "markdown",
   "id": "2e69d3fd",
   "metadata": {},
   "source": [
    "## Fonction `bien_parenthesee(s)`\n",
    "\n",
    "Cette fonction vérifie si une chaîne de caractères contient autant de parenthèses ouvrantes `(` que de parenthèses fermantes `)`\\.\n",
    "\n",
    "Elle ne vérifie *pas* la **bonne imbrication** des parenthèses : la séquence `')('` est considérée comme bien parenthésée par cette fonction, car elle contient une parenthèse ouvrante et une fermante.\n",
    "\n",
    "Exemple :\n",
    "\n",
    "```python\n",
    "bien_parenthesee('(()())')  # True\n",
    "bien_parenthesee(')(')      # True (mais incorrect en logique)\n",
    "```\n",
    "\n",
    "**Pour vérifier la bonne imbrication**, on pourrait utiliser un compteur qui s'incrémente à chaque `(` et se décrémente à chaque `)`, en s'assurant que ce compteur ne passe jamais en dessous de zéro et qu'il vaut zéro en fin de chaîne."
   ]
  },
  {
   "cell_type": "code",
   "execution_count": null,
   "id": "50142246",
   "metadata": {},
   "outputs": [],
   "source": [
    "# Exemples pour bien_parenthesee\n",
    "print(bien_parenthesee('(()())'))\n",
    "print(bien_parenthesee(')('))"
   ]
  },
  {
   "cell_type": "markdown",
   "id": "a69d6d41",
   "metadata": {},
   "source": [
    "## Fonction `puissance(x, n)`\n",
    "\n",
    "Cette fonction calcule `x` à la puissance `n` par récursivité.\n",
    "- Si `n > 1`, elle renvoie `x * puissance(x, n-1)`.\n",
    "- Si `n <= 1`, elle renvoie `x`.\n",
    "\n",
    "Ce code suppose que `n` est un entier positif. Pour `n = 1`, la fonction retourne `x`. Pour `n = 0`, elle devrait retourner `1`, mais ce cas n'est pas couvert.\n",
    "\n",
    "Exemple :\n",
    "\n",
    "```python\n",
    "puissance(2, 3)  # 8\n",
    "puissance(5, 1)  # 5\n",
    "```\n",
    "\n",
    "**Concepts abordés :** récursivité simple, cas de base."
   ]
  },
  {
   "cell_type": "code",
   "execution_count": null,
   "id": "4c96eeb0",
   "metadata": {},
   "outputs": [],
   "source": [
    "# Exemples pour puissance\n",
    "print(puissance(2, 3))\n",
    "print(puissance(5, 1))"
   ]
  },
  {
   "cell_type": "markdown",
   "id": "f4addca8",
   "metadata": {},
   "source": [
    "## Fonction `triangle(n)`\n",
    "\n",
    "Cette fonction récursive affiche un triangle d'étoiles en ordre croissant.\n",
    "\n",
    "- Si `n == 1`, elle affiche une seule étoile.\n",
    "- Sinon, elle appelle `triangle(n - 1)` pour afficher les lignes précédentes, puis affiche une ligne de `n` étoiles.\n",
    "\n",
    "Exemple pour `n=4` :\n",
    "```\n",
    "*\n",
    "**\n",
    "***\n",
    "****\n",
    "```\n",
    "\n",
    "**Concepts abordés :** récursivité, empilement des appels et retour arrière."
   ]
  },
  {
   "cell_type": "code",
   "execution_count": null,
   "id": "4b03b098",
   "metadata": {},
   "outputs": [],
   "source": [
    "# Exemple pour triangle\n",
    "triangle(4)"
   ]
  },
  {
   "cell_type": "markdown",
   "id": "f6262519",
   "metadata": {},
   "source": [
    "## Fonction `triangle_inverse(n)`\n",
    "\n",
    "Cette fonction récursive affiche un triangle d'étoiles en ordre décroissant.\n",
    "\n",
    "- Si `n == 1`, elle affiche une étoile.\n",
    "- Sinon, elle affiche d'abord une ligne de `n` étoiles, puis appelle `triangle_inverse(n - 1)`.\n",
    "\n",
    "Exemple pour `n=4` :\n",
    "```\n",
    "****\n",
    "***\n",
    "**\n",
    "*\n",
    "```"
   ]
  },
  {
   "cell_type": "code",
   "execution_count": null,
   "id": "844578f3",
   "metadata": {},
   "outputs": [],
   "source": [
    "# Exemple pour triangle_inverse\n",
    "triangle_inverse(4)"
   ]
  },
  {
   "cell_type": "markdown",
   "id": "efc91b5c",
   "metadata": {},
   "source": [
    "## Fonction `sablier(n)`\n",
    "\n",
    "Cette fonction affiche un motif de sablier (descente puis remontée).\n",
    "\n",
    "- Si `n <= 0`, elle ne fait rien.\n",
    "- Si `n == 1`, elle affiche une étoile.\n",
    "- Sinon, elle affiche une ligne de `n` étoiles, appelle `sablier(n - 1)`, puis affiche à nouveau une ligne de `n` étoiles.\n",
    "\n",
    "Exemple pour `n=3` :\n",
    "```\n",
    "***\n",
    "**\n",
    "*\n",
    "**\n",
    "***\n",
    "```"
   ]
  },
  {
   "cell_type": "code",
   "execution_count": null,
   "id": "73e05853",
   "metadata": {},
   "outputs": [],
   "source": [
    "# Exemple pour sablier\n",
    "sablier(3)"
   ]
  },
  {
   "cell_type": "markdown",
   "id": "3ac2cd6b",
   "metadata": {},
   "source": [
    "## Fonction `subset(lst)`\n",
    "\n",
    "Cette fonction prend une liste `lst` et construit une nouvelle liste `new_lst` en retirant successivement le dernier élément de `lst` et en stockant les couples (élément retiré, liste restante).\n",
    "\n",
    "À la fin, elle ajoute l'ensemble vide.\n",
    "\n",
    "Exemple :\n",
    "\n",
    "```python\n",
    "subset([1, 2, 3])\n",
    "# renvoie [3, [1, 2], 2, [1], 1, []]\n",
    "```\n",
    "\n",
    "Le résultat est une représentation linéaire de couples (élément, sous-liste), suivi de l'ensemble vide.\n",
    "Cette implémentation modifie la liste originale passée en argument, ce qui peut surprendre. Utiliser `lst.copy()` préserve l'argument original.\n",
    "\n",
    "**Concepts abordés :** manipulation de listes, utilisation de `pop` et `extend`."
   ]
  },
  {
   "cell_type": "code",
   "execution_count": null,
   "id": "4a4f9b68",
   "metadata": {},
   "outputs": [],
   "source": [
    "# Exemple pour subset\n",
    "print(subset([1,2,3]))"
   ]
  }
 ],
 "metadata": {},
 "nbformat": 4,
 "nbformat_minor": 5
}
