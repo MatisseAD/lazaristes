{
 "cells": [
  {
   "cell_type": "markdown",
   "metadata": {},
   "source": [
    "# Chapitre 3 — Exercices Python commentés et améliorés\n",
    "\n",
    "Ce notebook présente et explique plusieurs fonctions classiques de programmation, issues du chapitre 3. Chaque exercice est corrigé, optimisé si besoin, et illustré par des exemples.\n",
    "\n",
    "---"
   ]
  },
  {
   "cell_type": "markdown",
   "metadata": {},
   "source": [
    "## Exercice 1 : Comparer les éléments de deux listes (`same_elements`)\n",
    "\n",
    "**But** : Déterminer si deux listes contiennent exactement les mêmes éléments, peu importe l'ordre et les doublons.\n",
    "\n",
    "### Version corrigée et commentée"
   ]
  },
  {
   "cell_type": "code",
   "metadata": {},
   "execution_count": null,
   "source": [
    "def same_elements(u, v):\n",
    "    \"\"\"\n",
    "    Renvoie True si les deux listes contiennent exactement les mêmes éléments (peu importe l’ordre ou les doublons).\n",
    "    Utilisation des ensembles pour la version optimisée.\n",
    "    \"\"\"\n",
    "    return set(u) == set(v)\n"
   ]
  },
  {
   "cell_type": "markdown",
   "metadata": {},
   "source": [
    "### Exemples d'utilisation"
   ]
  },
  {
   "cell_type": "code",
   "metadata": {},
   "execution_count": null,
   "source": [
    "print(same_elements([1, 2, 3], [3, 2, 1]))  # True\n",
    "print(same_elements([1, 2, 2], [2, 1]))    # True\n",
    "print(same_elements([1, 2, 3], [4, 2, 1])) # False\n"
   ]
  },
  {
   "cell_type": "markdown",
   "metadata": {},
   "source": [
    "---\n",
    "## Exercice 2 : Parenthésage correct (`bien_parenthesee`)\n",
    "\n",
    "**But** : Vérifier si une chaîne contient le même nombre de parenthèses ouvrantes et fermantes.\n",
    "\n",
    "<span style=\"color:orange\">⚠️ La fonction d’origine ne vérifie PAS l’imbrication correcte (\"())(\").</span>\n",
    "\n",
    "### Version commentée"
   ]
  },
  {
   "cell_type": "code",
   "metadata": {},
   "execution_count": null,
   "source": [
    "def bien_parenthesee(s):\n",
    "    \"\"\"\n",
    "    Vérifie si la chaîne possède le même nombre de '(' et ')'.\n",
    "    Ne vérifie pas l’imbrication correcte !\n",
    "    \"\"\"\n",
    "    return s.count('(') == s.count(')')\n"
   ]
  },
  {
   "cell_type": "markdown",
   "metadata": {},
   "source": [
    "### Exemples"
   ]
  },
  {
   "cell_type": "code",
   "metadata": {},
   "execution_count": null,
   "source": [
    "print(bien_parenthesee(\"(()())\"))  # True\n",
    "print(bien_parenthesee(\"())(\"))    # True (mais ce n'est pas bien parenthésé dans le sens classique)\n",
    "print(bien_parenthesee(\"((())\"))   # False\n",
    "\n",
    "# Pour vérifier un parenthésage correct (imbrication), on peut faire :\n",
    "def bien_parenthesee_strict(s):\n",
    "    compteur = 0\n",
    "    for c in s:\n",
    "        if c == '(': compteur += 1\n",
    "        elif c == ')': compteur -= 1\n",
    "        if compteur < 0: return False\n",
    "    return compteur == 0\n",
    "\n",
    "print(bien_parenthesee_strict(\"(()())\"))  # True\n",
    "print(bien_parenthesee_strict(\"())(\"))    # False\n"
   ]
  },
  {
   "cell_type": "markdown",
   "metadata": {},
   "source": [
    "---\n",
    "## Exercice 3 : Puissance par récurrence (`puissance`)\n",
    "\n",
    "**But** : Calculer x^n de façon récursive.\n",
    "\n",
    "### Version corrigée et commentée"
   ]
  },
  {
   "cell_type": "code",
   "metadata": {},
   "execution_count": null,
   "source": [
    "def puissance(x, n):\n",
    "    \"\"\"\n",
    "    Calcule x puissance n (n entier >= 1) de façon récursive.\n",
    "    \"\"\"\n",
    "    if n <= 1:\n",
    "        return x\n",
    "    return x * puissance(x, n-1)\n"
   ]
  },
  {
   "cell_type": "markdown",
   "metadata": {},
   "source": [
    "### Exemple"
   ]
  },
  {
   "cell_type": "code",
   "metadata": {},
   "execution_count": null,
   "source": [
    "print(puissance(2, 5))  # 32\n",
    "print(puissance(3, 3))  # 27\n"
   ]
  },
  {
   "cell_type": "markdown",
   "metadata": {},
   "source": [
    "---\n",
    "## Exercice 4 : Triangle récursif (`triangle` et `triangle_inverse`)\n",
    "\n",
    "**But** : Afficher un triangle de largeur n (croissant ou décroissant) en étoiles.\n",
    "\n",
    "### Version corrigée et commentée"
   ]
  },
  {
   "cell_type": "code",
   "metadata": {},
   "execution_count": null,
   "source": [
    "def triangle(n):\n",
    "    \"\"\"\n",
    "    Affiche un triangle composé de lignes croissantes d'étoiles.\n",
    "    \"\"\"\n",
    "    if n == 1:\n",
    "        print(\"*\")\n",
    "    else:\n",
    "        triangle(n-1)\n",
    "        print(\"*\"*n)\n",
    "\n",
    "def triangle_inverse(n):\n",
    "    \"\"\"\n",
    "    Affiche un triangle composé de lignes décroissantes d'étoiles.\n",
    "    \"\"\"\n",
    "    if n == 1:\n",
    "        print(\"*\")\n",
    "    else:\n",
    "        print(\"*\"*n)\n",
    "        triangle_inverse(n-1)\n"
   ]
  },
  {
   "cell_type": "markdown",
   "metadata": {},
   "source": [
    "### Exemple d'affichage"
   ]
  },
  {
   "cell_type": "code",
   "metadata": {},
   "execution_count": null,
   "source": [
    "print(\"Triangle croissant :\")\n",
    "triangle(4)\n",
    "print(\"\\nTriangle décroissant :\")\n",
    "triangle_inverse(4)\n"
   ]
  },
  {
   "cell_type": "markdown",
   "metadata": {},
   "source": [
    "---\n",
    "## Exercice 5 : Sablier (`sablier`)\n",
    "\n",
    "**But** : Afficher un motif de sablier composé d'étoiles.\n",
    "\n",
    "### Version commentée"
   ]
  },
  {
   "cell_type": "code",
   "metadata": {},
   "execution_count": null,
   "source": [
    "def sablier(n):\n",
    "    \"\"\"\n",
    "    Affiche un motif de sablier avec des étoiles.\n",
    "    \"\"\"\n",
    "    if n <= 0:\n",
    "        return\n",
    "    if n == 1:\n",
    "        print(\"*\")\n",
    "    else:\n",
    "        print(\"*\"*n)\n",
    "        sablier(n-1)\n",
    "        print(\"*\"*n)\n"
   ]
  },
  {
   "cell_type": "markdown",
   "metadata": {},
   "source": [
    "### Exemple"
   ]
  },
  {
   "cell_type": "code",
   "metadata": {},
   "execution_count": null,
   "source": [
    "sablier(4)\n"
   ]
  },
  {
   "cell_type": "markdown",
   "metadata": {},
   "source": [
    "---\n",
    "## Exercice 6 : Sous-ensembles (implémentation à corriger)\n",
    "\n",
    "**But** : Générer tous les sous-ensembles d'une liste.\n",
    "\n",
    "<span style=\"color:orange\">⚠️ La version d'origine n'est pas correcte. Voici une version récursive fonctionnelle :</span>\n"
   ]
  },
  {
   "cell_type": "code",
   "metadata": {},
   "execution_count": null,
   "source": [
    "def subset(lst):\n",
    "    \"\"\"\n",
    "    Génère la liste de tous les sous-ensembles d'une liste lst.\n",
    "    \"\"\"\n",
    "    if len(lst) == 0:\n",
    "        return [[]]\n",
    "    x = lst[0]\n",
    "    without = subset(lst[1:])\n",
    "    with_x = [ [x] + s for s in without ]\n",
    "    return without + with_x\n"
   ]
  },
  {
   "cell_type": "markdown",
   "metadata": {},
   "source": [
    "### Exemple"
   ]
  },
  {
   "cell_type": "code",
   "metadata": {},
   "execution_count": null,
   "source": [
    "print(subset([1, 2, 3]))\n",
    "# Résultat attendu : [[], [3], [2], [2, 3], [1], [1, 3], [1, 2], [1, 2, 3]]\n"
   ]
  },
  {
   "cell_type": "markdown",
   "metadata": {},
   "source": [
    "---\n",
    "## Résumé\n",
    "\n",
    "- `same_elements(u, v)`: compare les ensembles d’éléments de deux listes\n",
    "- `bien_parenthesee(s)`: vérifie le nombre de parenthèses, et version stricte possible\n",
    "- `puissance(x, n)`: calcule x^n récursivement\n",
    "- `triangle(n)`, `triangle_inverse(n)`, `sablier(n)`: affichages récursifs de motifs\n",
    "- `subset(lst)`: génère tous les sous-ensembles d’une liste\n"
   ]
  }
 ],
 "metadata": {
  "kernelspec": {
   "display_name": "Python 3",
   "language": "python",
   "name": "python3"
  },
  "language_info": {
   "name": "python"
  }
 },
 "nbformat": 4,
 "nbformat_minor": 2
}