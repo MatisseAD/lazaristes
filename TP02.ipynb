{
 "cells": [
  {
   "cell_type": "markdown",
   "id": "b39b7e2f40689c95",
   "metadata": {},
   "source": [
    "# Récapitulatif et démonstration des fonctions d’altimétrie\n",
    "\n",
    "Objectif:\n",
    "- Intégrer le code fourni dans le notebook.\n",
    "- Expliquer brièvement le rôle de chaque fonction.\n",
    "- Montrer que le code fonctionne via des exécutions et vérifications simples."
   ]
  },
  {
   "cell_type": "markdown",
   "id": "8a44f061790527ee",
   "metadata": {},
   "source": [
    "## Fonctions\n",
    "\n",
    "- altmax(seq): retourne l’altitude maximale.\n",
    "- deniv_max(seq): retourne la variation (signée) de plus grande amplitude entre deux mesures consécutives.\n",
    "- heure_deniv_max(seq): retourne l’indice de départ du segment où le dénivelé maximal (en valeur absolue) a été observé.\n",
    "- deniv_positif_total(seq): somme de tous les dénivelés positifs.\n",
    "- sommets(seq): affiche les altitudes qui sont des maxima locaux (stricts)."
   ]
  },
  {
   "cell_type": "code",
   "execution_count": null,
   "id": "4b64a63169f06cb0",
   "metadata": {
    "ExecuteTime": {
     "end_time": "2025-09-24T16:58:16.199659Z",
     "start_time": "2025-09-24T16:58:16.182219Z"
    }
   },
   "outputs": [],
   "source": [
    "alt = [0, 300, 500, 600, 1000, 800, 900, 500, 600, 200, 0]\n",
    "\n",
    "\n",
    "def altmax(lst):\n",
    "    alt_max = 0\n",
    "    for i in range(len(lst)):\n",
    "        if lst[i] > alt_max:\n",
    "            alt_max = lst[i]\n",
    "    return alt_max\n",
    "\n",
    "\n",
    "def deniv_max(lst):\n",
    "    den_max = 0\n",
    "    for i in range(1, len(lst)):\n",
    "        if abs(lst[i] - lst[i - 1]) > den_max:\n",
    "            den_max = lst[i] - lst[i - 1]\n",
    "    return den_max\n",
    "\n",
    "\n",
    "def heure_deniv_max(lst):\n",
    "    for i in range(1, len(lst)):\n",
    "        if abs(lst[i] - lst[i - 1]) == deniv_max(lst):\n",
    "            return i - 1\n",
    "    return None\n",
    "\n",
    "\n",
    "def deniv_positif_total(lst):\n",
    "    tot = 0\n",
    "    for i in range(1, len(lst)):\n",
    "        if lst[i - 1] < lst[i] and i < len(lst):\n",
    "            tot = tot + (lst[i] - lst[i - 1])\n",
    "    return tot\n",
    "\n",
    "\n",
    "def sommets(lst):\n",
    "    for i in range(1, len(lst)):\n",
    "        if i + 1 < len(lst):\n",
    "            if lst[i] > lst[i - 1] and lst[i] > lst[i + 1]:\n",
    "                print(lst[i])"
   ]
  },
  {
   "cell_type": "code",
   "execution_count": null,
   "id": "86b2da3efbbe08ce",
   "metadata": {
    "ExecuteTime": {
     "end_time": "2025-09-24T16:58:16.355097Z",
     "start_time": "2025-09-24T16:58:16.340542Z"
    }
   },
   "outputs": [],
   "source": [
    "print(\n",
    "    \"Dans l'altimètre, l'altitude maximal est \"\n",
    "    + str(altmax(alt))\n",
    "    + \"m. Le dénivelé maximum est de  \"\n",
    "    + str(deniv_max(alt))\n",
    "    + \" dont ce point a été atteint à partir de \"\n",
    "    + str(heure_deniv_max(alt))\n",
    "    + \"h.\\n Le dénivelé positif total est de \"\n",
    "    + str(deniv_positif_total(alt))\n",
    ")\n",
    "sommets(alt)"
   ]
  },
  {
   "cell_type": "code",
   "execution_count": null,
   "id": "ae8924d6751d8c7a",
   "metadata": {
    "ExecuteTime": {
     "end_time": "2025-09-24T16:58:16.594859Z",
     "start_time": "2025-09-24T16:58:16.572252Z"
    }
   },
   "outputs": [],
   "source": [
    "# Vérifications rapides de bon fonctionnement\n",
    "assert altmax(alt) == 1000\n",
    "assert deniv_max(alt) == 400\n",
    "assert heure_deniv_max(alt) == 3\n",
    "assert deniv_positif_total(alt) == 1200\n",
    "\n",
    "# Cas limites simples\n",
    "assert altmax([0]) == 0\n",
    "assert deniv_max([5, 5]) == 0\n",
    "assert heure_deniv_max([5]) is None\n",
    "assert deniv_positif_total([3, 2, 1]) == 0\n",
    "\n",
    "\"Tous les tests ont réussi.\"\n"
   ]
  }
 ],
 "metadata": {
  "kernelspec": {
   "display_name": "Python 3 (ipykernel)",
   "language": "python",
   "name": "python3"
  },
  "language_info": {
   "codemirror_mode": {
    "name": "ipython",
    "version": 3
   },
   "file_extension": ".py",
   "mimetype": "text/x-python",
   "name": "python",
   "nbconvert_exporter": "python",
   "pygments_lexer": "ipython3",
   "version": "3.13.5"
  }
 },
 "nbformat": 4,
 "nbformat_minor": 5
}
