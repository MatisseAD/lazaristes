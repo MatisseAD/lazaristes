{
 "cells": [
  {
   "cell_type": "markdown",
   "metadata": {},
   "source": [
    "# Chapitre 4 — Exercices Python expliqués\n",
    "\n",
    "Ce notebook vise à expliquer, corriger et illustrer le fonctionnement des deux fonctions données :\n",
    "- `bicolore` : Détermine si une liste est \"bicolore\" (strictement croissante puis décroissante ou l'inverse, ou strictement monotone).\n",
    "- `entier_manquant` : Trouve l'entier manquant dans une séquence d'entiers consécutifs.\n",
    "\n",
    "---"
   ]
  },
  {
   "cell_type": "markdown",
   "metadata": {},
   "source": [
    "## Exercice 1 — Fonction `bicolore`\n",
    "\n",
    "<u>Objectif :</u> Déterminer si une liste d'entiers est strictement croissante, strictement décroissante, ou composée de deux parties strictement monotones (d'abord croissante puis décroissante, ou l'inverse).\n",
    "\n",
    "**On appelle une liste \"bicolore\" si elle est strictement monotone, ou si elle a une unique cassure, passant par exemple de croissante à décroissante.**\n",
    "\n",
    "### Version corrigée et commentée"
   ]
  },
  {
   "cell_type": "code",
   "metadata": {},
   "execution_count": null,
   "source": [
    "def bicolore(lst):\n",
    "    \"\"\"\n",
    "    Détermine si une liste d'entiers est bicolore :\n",
    "    - strictement croissante\n",
    "    - strictement décroissante\n",
    "    - strictement croissante puis strictement décroissante\n",
    "    - strictement décroissante puis strictement croissante\n",
    "    Affiche les deux sous-listes si la liste est bicolore mais pas monotone.\n",
    "    \"\"\"\n",
    "    n = len(lst)\n",
    "    if n < 2:\n",
    "        return True  # 0 ou 1 élément : toujours bicolore\n",
    "    \n",
    "    # 1. Vérification stricte de la monotonie croissante\n",
    "    croissant = all(lst[i] < lst[i+1] for i in range(n-1))\n",
    "    if croissant:\n",
    "        return True\n",
    "    # 2. Vérification stricte de la monotonie décroissante\n",
    "    decroissant = all(lst[i] > lst[i+1] for i in range(n-1))\n",
    "    if decroissant:\n",
    "        return True\n",
    "\n",
    "    # 3. Recherche d'une cassure unique\n",
    "    # Cas 1 : croissant puis décroissant\n",
    "    i = 0\n",
    "    while i < n-1 and lst[i] < lst[i+1]:\n",
    "        i += 1\n",
    "    if i > 0:  # Il y a une partie croissante\n",
    "        j = i\n",
    "        while j < n-1 and lst[j] > lst[j+1]:\n",
    "            j += 1\n",
    "        if j == n-1 and i != n-1:  # Tout le reste est décroissant\n",
    "            l1 = lst[:i+1]\n",
    "            l2 = lst[i+1:]\n",
    "            print(\"Partie croissante :\", l1)\n",
    "            print(\"Partie décroissante :\", l2)\n",
    "            return True\n",
    "\n",
    "    # Cas 2 : décroissant puis croissant\n",
    "    i = 0\n",
    "    while i < n-1 and lst[i] > lst[i+1]:\n",
    "        i += 1\n",
    "    if i > 0:\n",
    "        j = i\n",
    "        while j < n-1 and lst[j] < lst[j+1]:\n",
    "            j += 1\n",
    "        if j == n-1 and i != n-1:\n",
    "            l1 = lst[:i+1]\n",
    "            l2 = lst[i+1:]\n",
    "            print(\"Partie décroissante :\", l1)\n",
    "            print(\"Partie croissante :\", l2)\n",
    "            return True\n",
    "\n",
    "    # Sinon, non bicolore\n",
    "    return False\n"
   ]
  },
  {
   "cell_type": "markdown",
   "metadata": {},
   "source": [
    "### Exemples d'utilisation"
   ]
  },
  {
   "cell_type": "code",
   "metadata": {},
   "execution_count": null,
   "source": [
    "# Strictement croissante\n",
    "print(bicolore([1, 3, 4, 8]))  # True\n",
    "# Strictement décroissante\n",
    "print(bicolore([7, 5, 2, 1]))  # True\n",
    "# Croissante puis décroissante\n",
    "print(bicolore([1, 4, 7, 5, 2]))  # True et affiche les deux parties\n",
    "# Décroissante puis croissante\n",
    "print(bicolore([10, 8, 6, 7, 12]))  # True et affiche les deux parties\n",
    "# Non bicolore\n",
    "print(bicolore([1, 2, 1, 2, 1]))  # False\n"
   ]
  },
  {
   "cell_type": "markdown",
   "metadata": {},
   "source": [
    "---\n",
    "## Exercice 2 — Fonction `entier_manquant`\n",
    "\n",
    "<u>Objectif :</u> Trouver l'entier manquant dans une liste triée (ou non) d'entiers consécutifs à un élément près.\n",
    "\n",
    "### Version corrigée et commentée"
   ]
  },
  {
   "cell_type": "code",
   "metadata": {},
   "execution_count": null,
   "source": [
    "def entier_manquant(t):\n",
    "    \"\"\"\n",
    "    Trouve l'entier manquant dans une liste d'entiers consécutifs à un élément près.\n",
    "    Fonctionne pour une liste non triée.\n",
    "    \"\"\"\n",
    "    min_v = min(t)\n",
    "    max_v = max(t)\n",
    "    # Somme de la suite complète\n",
    "    somme_theorique = sum(range(min_v, max_v+1))\n",
    "    somme_obtenue = sum(t)\n",
    "    return somme_theorique - somme_obtenue\n"
   ]
  },
  {
   "cell_type": "markdown",
   "metadata": {},
   "source": [
    "### Exemples d'utilisation"
   ]
  },
  {
   "cell_type": "code",
   "metadata": {},
   "execution_count": null,
   "source": [
    "print(entier_manquant([3, 4, 6, 7, 8])) # 5\n",
    "print(entier_manquant([10, 12, 13, 11, 15])) # 14\n",
    "print(entier_manquant([2, 1, 4, 5])) # 3\n"
   ]
  },
  {
   "cell_type": "markdown",
   "metadata": {},
   "source": [
    "---\n",
    "## Résumé\n",
    "\n",
    "- `bicolore(lst)` détecte si une liste est monotone ou présente une unique cassure stricte.\n",
    "- `entier_manquant(t)` retrouve rapidement l'entier manquant dans une suite d'entiers consécutifs.\n",
    "\n",
    "Ces deux fonctions illustrent des techniques classiques d'algorithmique sur les listes.\n"
   ]
  }
 ],
 "metadata": {
  "kernelspec": {
   "display_name": "Python 3",
   "language": "python",
   "name": "python3"
  },
  "language_info": {
   "name": "python"
  }
 },
 "nbformat": 4,
 "nbformat_minor": 2
}