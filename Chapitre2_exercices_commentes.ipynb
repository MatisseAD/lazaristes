{
 "cells": [
  {
   "cell_type": "markdown",
   "metadata": {},
   "source": [
    "# Chapitre 2 — Exercices Python expliqués\n",
    "\n",
    "Ce notebook détaille et améliore plusieurs fonctions classiques vues au chapitre 2. Chaque exercice est commenté, optimisé si besoin, et illustré avec des exemples.\n",
    "\n",
    "---"
   ]
  },
  {
   "cell_type": "markdown",
   "metadata": {},
   "source": [
    "## Exercice 1 : Triangles et pyramides\n",
    "\n",
    "**Objectif** : Afficher des motifs de triangles et de pyramides avec des étoiles (`*`).\n"
   ]
  },
  {
   "cell_type": "code",
   "metadata": {},
   "execution_count": null,
   "source": [
    "def triangle1(n):\n",
    "    \"\"\"\n",
    "    Affiche un triangle croissant d'étoiles (lignes de 0 à n-1 étoiles).\n",
    "    \"\"\"\n",
    "    for i in range(n):\n",
    "        print(i*\"*\")\n",
    "\n",
    "def triangle2(n):\n",
    "    \"\"\"\n",
    "    Affiche un triangle décroissant d'étoiles (lignes de n à 0 étoiles).\n",
    "    \"\"\"\n",
    "    for i in range(n+1):\n",
    "        print((n-i)*\"*\")\n",
    "\n",
    "def pyramide1(n):\n",
    "    \"\"\"\n",
    "    Affiche une pyramide composée d'un triangle croissant suivi d'un triangle décroissant.\n",
    "    \"\"\"\n",
    "    triangle1(n)\n",
    "    triangle2(n)\n",
    "\n",
    "def pyramide2(n):\n",
    "    \"\"\"\n",
    "    Affiche une pyramide centrée (alignée à droite) d'étoiles séparées.\n",
    "    \"\"\"\n",
    "    for i in range(n+1):\n",
    "        print((n-i)*\" \" + i*\" *\")\n"
   ]
  },
  {
   "cell_type": "markdown",
   "metadata": {},
   "source": [
    "### Exemples d'affichage"
   ]
  },
  {
   "cell_type": "code",
   "metadata": {},
   "execution_count": null,
   "source": [
    "print(\"triangle1(5):\")\n",
    "triangle1(5)\n",
    "print(\"\\ntriangle2(5):\")\n",
    "triangle2(5)\n",
    "print(\"\\npyramide1(5):\")\n",
    "pyramide1(5)\n",
    "print(\"\\npyramide2(5):\")\n",
    "pyramide2(5)\n"
   ]
  },
  {
   "cell_type": "markdown",
   "metadata": {},
   "source": [
    "---\n",
    "## Exercice 2 : Somme de multiples de 3 ou 5 (`sum`)\n",
    "\n",
    "**Objectif** : Afficher la somme de tous les entiers de 0 à n inclus qui sont multiples de 3 ou de 5.\n",
    "\n",
    "### Version commentée"
   ]
  },
  {
   "cell_type": "code",
   "metadata": {},
   "execution_count": null,
   "source": [
    "def somme_multiples_3_5(n):\n",
    "    \"\"\"\n",
    "    Affiche la somme des entiers de 0 à n qui sont multiples de 3 ou 5.\n",
    "    \"\"\"\n",
    "    somme = 0\n",
    "    for i in range(n+1):\n",
    "        if i % 3 == 0 or i % 5 == 0:\n",
    "            somme += i\n",
    "    print(somme)\n"
   ]
  },
  {
   "cell_type": "markdown",
   "metadata": {},
   "source": [
    "### Exemple"
   ]
  },
  {
   "cell_type": "code",
   "metadata": {},
   "execution_count": null,
   "source": [
    "somme_multiples_3_5(10)  # Affiche 33\n"
   ]
  },
  {
   "cell_type": "markdown",
   "metadata": {},
   "source": [
    "---\n",
    "## Exercice 3 : Suite sommant les inverses de factoriels (`suite`)\n",
    "\n",
    "**Objectif** : Calculer et afficher la somme $S_n = \\sum_{k=0}^n \\frac{1}{k!}$.\n",
    "\n",
    "> Cette somme converge vers le nombre $e$ quand $n$ devient grand.\n",
    "\n",
    "### Version commentée"
   ]
  },
  {
   "cell_type": "code",
   "metadata": {},
   "execution_count": null,
   "source": [
    "from math import factorial\n",
    "\n",
    "def suite(n):\n",
    "    \"\"\"\n",
    "    Affiche la somme des inverses de factoriels de 0 à n.\n",
    "    \"\"\"\n",
    "    somme = 0\n",
    "    for i in range(n+1):\n",
    "        somme += 1/factorial(i)\n",
    "    print(somme)\n"
   ]
  },
  {
   "cell_type": "markdown",
   "metadata": {},
   "source": [
    "### Exemple"
   ]
  },
  {
   "cell_type": "code",
   "metadata": {},
   "execution_count": null,
   "source": [
    "suite(10)  # Affiche une valeur proche de e = 2.718...\n"
   ]
  },
  {
   "cell_type": "markdown",
   "metadata": {},
   "source": [
    "---\n",
    "## Exercice 4 : Palindrome (`palindrome`)\n",
    "\n",
    "**Objectif** : Déterminer si une chaîne est un palindrome (se lit pareil dans les deux sens).\n",
    "\n",
    "### Version commentée"
   ]
  },
  {
   "cell_type": "code",
   "metadata": {},
   "execution_count": null,
   "source": [
    "def palindrome(c):\n",
    "    \"\"\"\n",
    "    Affiche \"Oui\" si c est un palindrome, \"Non\" sinon. Retourne True ou False.\n",
    "    \"\"\"\n",
    "    l = len(c)\n",
    "    for i in range(l // 2):\n",
    "        if c[i] != c[l - i - 1]:\n",
    "            print(\"Non\")\n",
    "            return False\n",
    "    print(\"Oui\")\n",
    "    return True\n"
   ]
  },
  {
   "cell_type": "markdown",
   "metadata": {},
   "source": [
    "### Exemples"
   ]
  },
  {
   "cell_type": "code",
   "metadata": {},
   "execution_count": null,
   "source": [
    "palindrome(\"radar\")  # Oui\n",
    "palindrome(\"python\") # Non\n"
   ]
  },
  {
   "cell_type": "markdown",
   "metadata": {},
   "source": [
    "---\n",
    "## Exercice 16 : Doublon (`doublon`)\n",
    "\n",
    "**Objectif** : Vérifier si une liste contient au moins deux fois la même valeur.\n",
    "\n",
    "### Version commentée"
   ]
  },
  {
   "cell_type": "code",
   "metadata": {},
   "execution_count": null,
   "source": [
    "def doublon(a):\n",
    "    \"\"\"\n",
    "    Retourne True si la liste a contient un doublon, False sinon.\n",
    "    \"\"\"\n",
    "    for i in range(len(a)):\n",
    "        for k in range(len(a)):\n",
    "            if a[i] == a[k] and i != k:\n",
    "                return True\n",
    "    return False\n"
   ]
  },
  {
   "cell_type": "markdown",
   "metadata": {},
   "source": [
    "### Exemple"
   ]
  },
  {
   "cell_type": "code",
   "metadata": {},
   "execution_count": null,
   "source": [
    "print(doublon([1, 2, 3, 2]))  # True\n",
    "print(doublon([1, 2, 3]))     # False\n"
   ]
  },
  {
   "cell_type": "markdown",
   "metadata": {},
   "source": [
    "---\n",
    "## Exercice 17 : Somme de deux éléments (`somme17`)\n",
    "\n",
    "**Objectif** : Vérifier si la somme de deux éléments distincts d'une liste vaut `s`.\n",
    "\n",
    "### Version commentée"
   ]
  },
  {
   "cell_type": "code",
   "metadata": {},
   "execution_count": null,
   "source": [
    "def somme17(a, s):\n",
    "    \"\"\"\n",
    "    Retourne True si deux éléments distincts de a ont pour somme s.\n",
    "    \"\"\"\n",
    "    for i in range(len(a)):\n",
    "        for k in range(len(a)):\n",
    "            if i != k and a[i] + a[k] == s:\n",
    "                return True\n",
    "    return False\n"
   ]
  },
  {
   "cell_type": "markdown",
   "metadata": {},
   "source": [
    "### Exemples"
   ]
  },
  {
   "cell_type": "code",
   "metadata": {},
   "execution_count": null,
   "source": [
    "print(somme17([1, 2, 3, 4], 5))  # True (2 + 3)\n",
    "print(somme17([1, 2, 3, 4], 10)) # False\n"
   ]
  },
  {
   "cell_type": "markdown",
   "metadata": {},
   "source": [
    "---\n",
    "## Résumé\n",
    "\n",
    "- Affichage de motifs (triangles, pyramides)\n",
    "- Calculs sur les suites et les nombres\n",
    "- Recherche de propriétés dans des listes (palindromes, doublons, sommes)\n",
    "\n",
    "Ces exercices illustrent la manipulation de boucles, conditions et listes de base en Python.\n"
   ]
  }
 ],
 "metadata": {
  "kernelspec": {
   "display_name": "Python 3",
   "language": "python",
   "name": "python3"
  },
  "language_info": {
   "name": "python"
  }
 },
 "nbformat": 4,
 "nbformat_minor": 2
}